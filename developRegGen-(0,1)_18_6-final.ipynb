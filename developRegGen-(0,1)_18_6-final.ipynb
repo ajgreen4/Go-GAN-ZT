{
 "cells": [
  {
   "cell_type": "markdown",
   "metadata": {},
   "source": [
    "# Go-ZT train final model\n",
    "### This notebook contains the code need to train the final DNN using [0,1,2] encoded summary toxicity matrices and chemicals structural data.\n",
    "#### See http://biorxiv.org/lookup/doi/10.1101/2020.10.02.322917 for details\n",
    "\n",
    "By Adrian J Green, PhD"
   ]
  },
  {
   "cell_type": "code",
   "execution_count": 1,
   "metadata": {},
   "outputs": [
    {
     "name": "stdout",
     "output_type": "stream",
     "text": [
      "tensorflow version 2.1.0 . Executing eagerly? True\n",
      "1 Physical GPUs, 1 Logical GPUs\n",
      "\n",
      "Number of GPUs:  1\n"
     ]
    }
   ],
   "source": [
    "from __future__ import absolute_import, division, print_function, unicode_literals\n",
    "\n",
    "import os\n",
    "# os.environ[\"CUDA_VISIBLE_DEVICES\"]=\"0\"           # Only one GPU will be seen\n",
    "\n",
    "# tensorflow\n",
    "import tensorflow as tf\n",
    "from tensorflow import keras\n",
    "from tensorflow.keras import layers\n",
    "from tensorflow.keras.utils import multi_gpu_model\n",
    "\n",
    "tf.keras.backend.clear_session()  # For easy reset of notebook state.\n",
    "\n",
    "print(\"tensorflow version\",tf.__version__,\". Executing eagerly?\",tf.executing_eagerly())\n",
    "\n",
    "# minimize GPU useage by allowing memeory growth\n",
    "gpus = tf.config.experimental.list_physical_devices('GPU')\n",
    "if gpus:\n",
    "    try:\n",
    "        # Currently, memory growth needs to be the same across GPUs\n",
    "        for gpu in gpus:\n",
    "          tf.config.experimental.set_memory_growth(gpu, True)\n",
    "        logical_gpus = tf.config.experimental.list_logical_devices('GPU')\n",
    "        print(len(gpus), \"Physical GPUs,\", len(logical_gpus), \"Logical GPUs\")\n",
    "    except RuntimeError as e:\n",
    "        # Memory growth must be set before GPUs have been initialized\n",
    "        print(e)\n",
    "print(\"\\nNumber of GPUs: \", len(tf.config.experimental.list_physical_devices('GPU')))"
   ]
  },
  {
   "cell_type": "code",
   "execution_count": 2,
   "metadata": {},
   "outputs": [],
   "source": [
    "# standard python\n",
    "import numpy as np\n",
    "import pathlib\n",
    "import collections\n",
    "import warnings\n",
    "\n",
    "# plotting, especially for jupyter notebooks\n",
    "import matplotlib\n",
    "from matplotlib import pyplot as plt\n",
    "import matplotlib.gridspec as gridspec\n",
    "from IPython.display import Image\n",
    "\n",
    "# pandas\n",
    "import pandas as pd\n",
    "\n",
    "# local routines\n",
    "from chemdataprep import load_PDBs\n",
    "from toxmathandler_AG import load_tmats\n",
    "\n",
    "# NN build routines\n",
    "from NNbuild_train_vis import init_generator\n",
    "\n",
    "# NN train routines\n",
    "from NNbuild_train_vis import write_training_file\n",
    "\n",
    "# Performance evaluation routines\n",
    "from gen_AggE import calc_AggE, display_conf_matrix"
   ]
  },
  {
   "cell_type": "code",
   "execution_count": 3,
   "metadata": {},
   "outputs": [],
   "source": [
    "# Global data options\n",
    "\n",
    "### PDB options\n",
    "\n",
    "# cGAN & views parameters\n",
    "# [Gfeatures,Gbaselayers,Glayers,Dfeatures,Dbaselayers,Dlayers,carbonbased, setNatoms, views, ClassLabels]\n",
    "parameters = [279, 3, 11, 18, 0, 0, False, 82, 126, None] # Go-ZT\n",
    "\n",
    "## Option to base views on carbon or not. (Safe even if some have no carbon.)\n",
    "# Setting True will make the data smaller in memory and everything run faster.\n",
    "carbonbased = parameters[6]\n",
    "## Option for truncating the length of views.\n",
    "# Truncating will make the data and NN smaller and things run faster.\n",
    "# It make sense if we believe that looking at all neighborhoods of some size \n",
    "# gives sufficient understanding of the chemical.\n",
    "# setNatoms = None # use max number in data\n",
    "setNatoms = parameters[7] # truncate to this number\n",
    "parameters[9] = None # allow cGAN to use class labels in training, None or int\n",
    "\n",
    "if carbonbased:\n",
    "    views = None\n",
    "else:\n",
    "    views=parameters[8]\n",
    "\n",
    "dataType = '(0,1)_18x1'\n",
    "\n",
    "# Traning individual toxic\n",
    "allpath = '/home2/ajgreen4/Read-Across_w_GAN/DataFiles/(0,1,2)_encoding/tox21_all_compounds/'\n",
    "    \n",
    "modelpath = '/home2/ajgreen4/Read-Across_w_GAN/Models/Go-ZT/'\n",
    "dataType = '(0,1)_18x1'\n",
    "genPrefix = 'AG-model-regGT-'+dataType"
   ]
  },
  {
   "cell_type": "markdown",
   "metadata": {},
   "source": [
    "# Data Preparation\n",
    "\n",
    "* We may want more info, such as a charge, to be included"
   ]
  },
  {
   "cell_type": "code",
   "execution_count": 4,
   "metadata": {},
   "outputs": [
    {
     "name": "stdout",
     "output_type": "stream",
     "text": [
      "1003 pdb files found at /home2/ajgreen4/Read-Across_w_GAN/DataFiles/(0,1,2)_encoding/tox21_all_compounds/PDBs/\n",
      "Species occurring = {'H', 'CL', 'N', 'BR', 'P', 'I', 'B', 'SI', 'AS', 'O', 'F', 'S', 'C'}\n",
      "Setting all views to Natoms= 82\n",
      "126 views needed, but setting to 126\n",
      "Maximum views used = 126\n",
      "Data tensor (w,v) shapes= (1003, 126) (1003, 126, 410)\n"
     ]
    }
   ],
   "source": [
    "# load all files files\n",
    "[ws, vs, Natoms, Nviews, chemnames, Vshape] = load_PDBs(allpath,setNatoms=setNatoms,setNviews=views, carbonbased=carbonbased)"
   ]
  },
  {
   "cell_type": "code",
   "execution_count": 5,
   "metadata": {},
   "outputs": [
    {
     "name": "stdout",
     "output_type": "stream",
     "text": [
      "Using toxicity matrix as labels\n",
      "Transforming encoding to [no effect,effect or NA (dead)]=[0,1].\n",
      "Number of chemicals= 1003\n",
      "Using concentrations ['64 uM']\n",
      "Using endpoints: ['MORT', 'YSE_', 'AXIS', 'EYE_', 'SNOU', 'JAW_', 'OTIC', 'PE__', 'BRAI', 'SOMI', 'PFIN', 'CFIN', 'PIG_', 'CIRC', 'TRUN', 'SWIM', 'NC__', 'TR__']\n",
      "Toxicity vector length Ntoxicity= 18\n",
      "Using 1 concentrations\n",
      "Using 18 endpoints\n"
     ]
    }
   ],
   "source": [
    "# outputs/labels\n",
    "\n",
    "print(\"Using toxicity matrix as labels\")\n",
    "### Toxicity matrix options\n",
    "if (genPrefix.find('(0,1)_18x6')!=-1):\n",
    "    concentrations = [0,1,2,3,4,5]\n",
    "else:\n",
    "    concentrations = [-1]    ## Which of the available endpoints to use\n",
    "endpoints = [i for i in range(4,22)] # use all\n",
    "\n",
    "# load validation files\n",
    "[toxicity, rows, cols, fish] = load_tmats(allpath,chemnames, \n",
    "                                                         concentration_indexes=concentrations, \n",
    "                                                         endpoint_indexes=endpoints,transform=True,\n",
    "                                                         SET=3,verbose=1)\n",
    "\n",
    "# legend labels for plotting\n",
    "endpoints = [i for i in range(len(rows))]\n",
    "concentrations = [i for i in range(len(cols))]\n",
    "print(\"Using\", len(concentrations), \"concentrations\")\n",
    "print(\"Using\", len(endpoints), \"endpoints\")\n",
    "legend = [rows,cols,endpoints,concentrations]"
   ]
  },
  {
   "cell_type": "markdown",
   "metadata": {},
   "source": [
    "# Neural Network code"
   ]
  },
  {
   "cell_type": "markdown",
   "metadata": {},
   "source": [
    "### Fitting generator with conventional regression\n",
    "\n",
    "This tests if G has enough power to get the truth, how fast it could learn, etc"
   ]
  },
  {
   "cell_type": "code",
   "execution_count": 6,
   "metadata": {},
   "outputs": [
    {
     "name": "stdout",
     "output_type": "stream",
     "text": [
      "Model: \"generator\"\n",
      "__________________________________________________________________________________________________\n",
      "Layer (type)                    Output Shape         Param #     Connected to                     \n",
      "==================================================================================================\n",
      "parallelwrapper_input0 (InputLa [(None, 126, 410)]   0                                            \n",
      "__________________________________________________________________________________________________\n",
      "Gbase (Model)                   (None, 126, 279)     1428021     parallelwrapper_input0[0][0]     \n",
      "__________________________________________________________________________________________________\n",
      "parallelScalars (InputLayer)    [(None, 126)]        0                                            \n",
      "__________________________________________________________________________________________________\n",
      "weighted_sum_over_views (Dot)   (None, 279)          0           Gbase[1][0]                      \n",
      "                                                                 parallelScalars[0][0]            \n",
      "__________________________________________________________________________________________________\n",
      "Gft (Model)                     (None, 18)           986652      weighted_sum_over_views[0][0]    \n",
      "==================================================================================================\n",
      "Total params: 2,414,673\n",
      "Trainable params: 2,407,383\n",
      "Non-trainable params: 7,290\n",
      "__________________________________________________________________________________________________\n"
     ]
    }
   ],
   "source": [
    "# losses\n",
    "Gloss_function = tf.keras.losses.MeanSquaredError()\n",
    "\n",
    "# optimizers\n",
    "generator_optimizer = tf.keras.optimizers.SGD(learning_rate=0.01, momentum=0.9)\n",
    "\n",
    "generator = init_generator([ws, vs],toxicity,parameters)\n",
    "generator.summary()"
   ]
  },
  {
   "cell_type": "code",
   "execution_count": 7,
   "metadata": {},
   "outputs": [
    {
     "name": "stdout",
     "output_type": "stream",
     "text": [
      "CPU times: user 29.4 s, sys: 35.8 s, total: 1min 5s\n",
      "Wall time: 41.4 s\n"
     ]
    }
   ],
   "source": [
    "%%time\n",
    "# fit\n",
    "BATCH_SIZE = 201\n",
    "history = generator.fit([ws, vs],toxicity,\n",
    "              epochs=75,batch_size=BATCH_SIZE,verbose=0)\n",
    "training_loss = round(generator.evaluate([ws, vs],toxicity,verbose=0), 4)"
   ]
  },
  {
   "cell_type": "code",
   "execution_count": 15,
   "metadata": {},
   "outputs": [
    {
     "data": {
      "image/png": "[encoded data removed]",
      "text/plain": [
       "<Figure size 576x396 with 1 Axes>"
      ]
     },
     "metadata": {},
     "output_type": "display_data"
    },
    {
     "data": {
      "image/png": "[encoded data removed]",
      "text/plain": [
       "<Figure size 576x396 with 2 Axes>"
      ]
     },
     "metadata": {},
     "output_type": "display_data"
    },
    {
     "name": "stdout",
     "output_type": "stream",
     "text": [
      "\n",
      "\n",
      "Kappa:  0.503\n",
      "Auroc:  0.7116\n"
     ]
    }
   ],
   "source": [
    "# Plot figures\n",
    "if 1:\n",
    "    # plot loss during training\n",
    "    plt.figure()\n",
    "    plt.title('GO-ZT Training Loss')\n",
    "    plt.plot(history.history['loss'], label='train')\n",
    "    plt.legend()\n",
    "    plt.savefig(modelpath+'GO-ZT_final_model_loss_plot.png', dpi=600, bbox_inches='tight')\n",
    "    plt.pause(0.5)\n",
    "\n",
    "gen_lab = generator.predict([ws, vs])\n",
    "# Calculate chemical activity - ignoring warning due to potential division by zero\n",
    "with warnings.catch_warnings():\n",
    "    warnings.simplefilter(action='ignore', category=Warning)\n",
    "    [gen_activity_table, tox_activity_table, gen_AggE, tox_AggE] = calc_AggE(toxicity, chemnames, gen_lab, fish, \n",
    "                                                             endpoints, concentrations, verbose=0)\n",
    "\n",
    "# metrics = display_conf_matrix(gen_activity_table, tox_activity_table, Gmodelname='Go-ZT', Display=True, \n",
    "#                               Save_path=modelpath)       \n",
    "metrics = display_conf_matrix(gen_activity_table, tox_activity_table, Gmodelname='Go-ZT', Display=True)  "
   ]
  },
  {
   "cell_type": "code",
   "execution_count": 16,
   "metadata": {},
   "outputs": [
    {
     "name": "stdout",
     "output_type": "stream",
     "text": [
      "AG-model-GT-(0,1)_18x1-Kappa-0.503-GO-ZT-final.h5\n"
     ]
    }
   ],
   "source": [
    "# Save the model\n",
    "outfilename = \"AG-model-GT-\"+dataType+\"-Kappa-\"+str(metrics[0])+\"-GO-ZT-final\"\n",
    "print(outfilename+\".h5\")\n",
    "generator.save(modelpath+outfilename+\".h5\")"
   ]
  },
  {
   "cell_type": "code",
   "execution_count": null,
   "metadata": {},
   "outputs": [],
   "source": [
    "os._exit(00)"
   ]
  },
  {
   "cell_type": "code",
   "execution_count": null,
   "metadata": {},
   "outputs": [],
   "source": []
  }
 ],
 "metadata": {
  "kernelspec": {
   "display_name": "Python 3",
   "language": "python",
   "name": "python3"
  },
  "language_info": {
   "codemirror_mode": {
    "name": "ipython",
    "version": 3
   },
   "file_extension": ".py",
   "mimetype": "text/x-python",
   "name": "python",
   "nbconvert_exporter": "python",
   "pygments_lexer": "ipython3",
   "version": "3.6.9"
  }
 },
 "nbformat": 4,
 "nbformat_minor": 4
}
