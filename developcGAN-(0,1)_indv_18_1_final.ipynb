{
 "cells": [
  {
   "cell_type": "markdown",
   "metadata": {},
   "source": [
    "# GAN-ZT train final model\n",
    "### This notebook contains the code need to train the final conditional generative adversarial network model using [0,1] encoded individual toxicity matrices and chemicals structural data.\n",
    "#### See http://biorxiv.org/lookup/doi/10.1101/2020.10.02.322917 for details\n",
    "\n",
    "By Adrian J Green, PhD"
   ]
  },
  {
   "cell_type": "markdown",
   "metadata": {},
   "source": [
    "#### Import Tensorflow and manage GPUs"
   ]
  },
  {
   "cell_type": "code",
   "execution_count": 1,
   "metadata": {},
   "outputs": [
    {
     "name": "stdout",
     "output_type": "stream",
     "text": [
      "1 Physical GPUs, 1 Logical GPUs\n"
     ]
    }
   ],
   "source": [
    "import os\n",
    "\n",
    "# tensorflow\n",
    "import tensorflow as tf\n",
    "from tensorflow import keras\n",
    "from tensorflow.keras import layers\n",
    "from tensorflow.keras.utils import multi_gpu_model\n",
    "\n",
    "tf.keras.backend.clear_session()  # For easy reset of notebook state.\n",
    "\n",
    "# minimize GPU useage by allowing memeory growth\n",
    "gpus = tf.config.experimental.list_physical_devices('GPU')\n",
    "if gpus:\n",
    "    try:\n",
    "        # Currently, memory growth needs to be the same across GPUs\n",
    "        for gpu in gpus:\n",
    "            tf.config.experimental.set_memory_growth(gpu, True)\n",
    "        logical_gpus = tf.config.experimental.list_logical_devices('GPU')\n",
    "        print(len(gpus), \"Physical GPUs,\", len(logical_gpus), \"Logical GPUs\")\n",
    "    except RuntimeError as e:\n",
    "        # Memory growth must be set before GPUs have been initialized\n",
    "        print(e)"
   ]
  },
  {
   "cell_type": "markdown",
   "metadata": {},
   "source": [
    "#### Import Python data handling and visualization modules, and local routines"
   ]
  },
  {
   "cell_type": "code",
   "execution_count": 2,
   "metadata": {},
   "outputs": [
    {
     "name": "stdout",
     "output_type": "stream",
     "text": [
      "tensorflow version 2.1.0 . Executing eagerly? True\n",
      "Number of GPUs:  1\n"
     ]
    }
   ],
   "source": [
    "from __future__ import absolute_import, division, print_function, unicode_literals\n",
    "\n",
    "# standard python\n",
    "import numpy as np\n",
    "# from sklearn.metrics import mean_squared_log_error, mean_squared_error\n",
    "# from sklearn.preprocessing import LabelEncoder\n",
    "from sklearn.model_selection import ShuffleSplit\n",
    "import pathlib\n",
    "import os.path\n",
    "import warnings\n",
    "import timeit\n",
    "\n",
    "# plotting, especially for jupyter notebooks\n",
    "from matplotlib import pyplot as plt\n",
    "import matplotlib.gridspec as gridspec\n",
    "from IPython.display import Image\n",
    "\n",
    "# pandas\n",
    "import pandas as pd\n",
    "\n",
    "# local routines\n",
    "from chemdataprep import load_PDBs\n",
    "from toxmathandler_AG import load_tmats, load_indv_tmats\n",
    "\n",
    "# NN build routines\n",
    "from NNbuild_train_vis import init_NN_v2\n",
    "\n",
    "# NN train routines\n",
    "from NNbuild_train_vis import discriminator_loss,generator_loss, get_train_function, write_training_file\n",
    "\n",
    "# Performance evaluation routines\n",
    "from gen_AggE import calc_AggE_indv, display_conf_matrix\n",
    "\n",
    "print(\"tensorflow version\",tf.__version__,\". Executing eagerly?\",tf.executing_eagerly())\n",
    "print(\"Number of GPUs: \", len(tf.config.experimental.list_physical_devices('GPU')))"
   ]
  },
  {
   "cell_type": "markdown",
   "metadata": {},
   "source": [
    "## Global Options and Variables"
   ]
  },
  {
   "cell_type": "markdown",
   "metadata": {},
   "source": [
    "#### Chemical structure and toxicity import and model output variables"
   ]
  },
  {
   "cell_type": "code",
   "execution_count": 23,
   "metadata": {},
   "outputs": [],
   "source": [
    "### PDB options\n",
    "\n",
    "# cGAN & views parameters\n",
    "# [Gfeatures,Gbaselayers,Glayers,Dfeatures,Dbaselayers,Dlayers,carbonbased, setNatoms, views, ClassLabels]\n",
    "parameters = [279, 3, 11, 18, 0, 0, False, 82, 126, None] # GAN-ZT_v6\n",
    "\n",
    "## Option to base views on carbon or not. (Safe even if some have no carbon.)\n",
    "# Setting True will make the data smaller in memory and everything run faster.\n",
    "carbonbased = parameters[6]\n",
    "## Option for truncating the length of views.\n",
    "# Truncating will make the data and NN smaller and things run faster.\n",
    "# It make sense if we believe that looking at all neighborhoods of some size \n",
    "# gives sufficient understanding of the chemical.\n",
    "# setNatoms = None # use max number in data\n",
    "setNatoms = parameters[7] # truncate to this number\n",
    "\n",
    "views=parameters[8]\n",
    "\n",
    "dataType = '(0,1)_18x1'\n",
    "\n",
    "if (dataType.find('(0,1)_18x6')!=-1):\n",
    "    concentrations = [0,1,2,3,4,5]\n",
    "else:\n",
    "    concentrations = [5]    ## Which of the available endpoints to use\n",
    "endpoints = [i for i in range(4,22)] # use all\n",
    "    \n",
    "genpath = 'AG-model-GT-'+dataType+'.h5'\n",
    "discpath = 'AG-model-DT-'+dataType+'.h5'\n",
    "\n",
    "# Traning individual toxic\n",
    "trpath = '/home2/ajgreen4/Read-Across_w_GAN/DataFiles/(0,1)_encoding_indv/Tox21_training_compounds/'\n",
    "valpath = '/home2/ajgreen4/Read-Across_w_GAN/DataFiles/(0,1)_encoding_indv/Tox21_validation_compounds/'\n",
    "allpath = '/home2/ajgreen4/Read-Across_w_GAN/DataFiles/(0,1)_encoding_indv/Tox21_all_train_compounds/'\n",
    "    \n",
    "modelpath = '/home2/ajgreen4/Read-Across_w_GAN/Models/'\n",
    "imageOut = '/home2/ajgreen4/Read-Across_w_GAN/imageOut/'"
   ]
  },
  {
   "cell_type": "markdown",
   "metadata": {},
   "source": [
    "#### cGAN variables"
   ]
  },
  {
   "cell_type": "code",
   "execution_count": 4,
   "metadata": {},
   "outputs": [],
   "source": [
    "# losses\n",
    "Gloss_function = tf.keras.losses.MeanSquaredError()\n",
    "Dloss_function = tf.keras.losses.MeanSquaredError()\n",
    "\n",
    "# optimizers\n",
    "generator_optimizer = tf.keras.optimizers.SGD(learning_rate=0.01, momentum=0.9)\n",
    "discriminator_optimizer = tf.keras.optimizers.Adam(1e-3)"
   ]
  },
  {
   "cell_type": "markdown",
   "metadata": {},
   "source": [
    "# Data Preparation\n",
    "\n",
    "### Load chemical data and vectorize into weights and views"
   ]
  },
  {
   "cell_type": "code",
   "execution_count": 17,
   "metadata": {},
   "outputs": [
    {
     "name": "stdout",
     "output_type": "stream",
     "text": [
      "1003 pdb files found at /home2/ajgreen4/Read-Across_w_GAN/DataFiles/(0,1)_encoding_indv/Tox21_all_train_compounds/PDBs/\n",
      "Species occurring = {'S', 'N', 'F', 'I', 'O', 'BR', 'P', 'H', 'CL', 'SI', 'B', 'C', 'AS'}\n",
      "Setting all views to Natoms= 82\n",
      "126 views needed, but setting to 126\n",
      "Maximum views used = 126\n",
      "Data tensor (w,v) shapes= (1003, 126) (1003, 126, 410)\n"
     ]
    }
   ],
   "source": [
    "# load all training files\n",
    "[ws, vs, Natoms, Nviews, chemnames, Vshape] = load_PDBs(allpath,setNatoms=setNatoms,setNviews=views,carbonbased=carbonbased) \n",
    "parameters[8] = Nviews\n",
    "useClassLabels = parameters[9] = len(chemnames) # allow cGAN to use class labels in training, None or int"
   ]
  },
  {
   "cell_type": "markdown",
   "metadata": {},
   "source": [
    "#### Encode chemical labels"
   ]
  },
  {
   "cell_type": "code",
   "execution_count": 18,
   "metadata": {},
   "outputs": [],
   "source": [
    "chem_labels = np.arange(len(chemnames))\n",
    "chem_labels = np.reshape(chem_labels, (chem_labels.shape[0],1))"
   ]
  },
  {
   "cell_type": "markdown",
   "metadata": {},
   "source": [
    "#### Load individual toxicity data"
   ]
  },
  {
   "cell_type": "code",
   "execution_count": 19,
   "metadata": {},
   "outputs": [
    {
     "name": "stdout",
     "output_type": "stream",
     "text": [
      "Loading individual toxicity matrices (~15 minutes)\n",
      "Number of chemicals= 1003\n",
      "Using concentrations ['64 uM']\n",
      "Using endpoints: ['MORT', 'YSE_', 'AXIS', 'EYE_', 'SNOU', 'JAW_', 'OTIC', 'PE__', 'BRAI', 'SOMI', 'PFIN', 'CFIN', 'PIG_', 'CIRC', 'TRUN', 'SWIM', 'NC__', 'TR__']\n",
      "Toxicity vector length Ntoxicity= 18\n",
      "Using 1 concentrations\n",
      "Using 18 endpoints\n",
      "CPU times: user 15min 9s, sys: 1.53 s, total: 15min 11s\n",
      "Wall time: 15min 18s\n"
     ]
    }
   ],
   "source": [
    "%%time\n",
    "\n",
    "# individual toxicity\n",
    "print(\"Loading individual toxicity matrices (~15 minutes)\")\n",
    "### Toxicity matrix options\n",
    "[toxicity,rows, cols, fish] = load_indv_tmats(allpath,chemnames,endpoint_indexes=endpoints,\n",
    "                                              SET=2, verbose=1)\n",
    "\n",
    "Xfactor = np.bincount(fish[:,0])\n",
    "\n",
    "# legend labels for plotting\n",
    "print(\"Using\", len(concentrations), \"concentrations\")\n",
    "print(\"Using\", len(endpoints), \"endpoints\")\n",
    "endpoints = [i for i in range(len(rows))]\n",
    "concentrations = [i for i in range(len(cols))]\n",
    "legend = [rows,cols,endpoints,concentrations]\n",
    "    \n",
    "if 0:\n",
    "    print('CASRN: ',chemnames[0])\n",
    "    print('Chem label: ',fish[0])\n",
    "    print('First tox matrix:', toxicity[0])\n",
    "    \n"
   ]
  },
  {
   "cell_type": "markdown",
   "metadata": {},
   "source": [
    "# Neural Network training code"
   ]
  },
  {
   "cell_type": "code",
   "execution_count": 8,
   "metadata": {},
   "outputs": [],
   "source": [
    "# Create wrapper function to allow model to be discarded and re-initilazation between cross-validation folds\n",
    "def get_train_function():\n",
    "    # Compile training function\n",
    "    @tf.function\n",
    "    def train_step(G_data,real_data,chemClass,toxClass,doG=True,doD=True):\n",
    "        \"\"\"Train Condictional Generative Adversarial Network.\n",
    "\n",
    "        :parameter G_data: List containing a np.array vector with weights and \n",
    "                           a np.array matrix with vectorized views.\n",
    "                           (see chemdataprep.load_pdb())\n",
    "        :type G_data: list\n",
    "        :parameter real_data: Master toxicity data matrix. \n",
    "                              Rows correspond to chemicals and columns to toxicity measurements.\n",
    "                              (see toxmathandler.load_tmats())\n",
    "        :type real_data: np.array\n",
    "        :parameter chemClass: Chemical class label.\n",
    "        :type chemClass: int\n",
    "        :parameter toxClass: Toxcicity class labels.\n",
    "        :type toxClass: int\n",
    "        :parameter doG: If True train generator\n",
    "        :type doG: boolean\n",
    "        :parameter doD: If True train discriminator\n",
    "        :type doD: boolean\n",
    "\n",
    "        :returns: Discriminator and Generator loss\n",
    "        :rtype: tuple\n",
    "\n",
    "        \"\"\"\n",
    "        \n",
    "        with tf.GradientTape() as gen_tape, tf.GradientTape() as disc_tape:\n",
    "            generated_matrix, Gpw_features = generator(G_data+chemClass, training=True)\n",
    "            expanded_Dpw_model = tf.repeat(Gpw_features, repeats=Xfactor, axis=0)\n",
    "\n",
    "            real_output = discriminator([expanded_Dpw_model]+real_data+toxClass, training=True)\n",
    "            fake_output = discriminator([Gpw_features]+[generated_matrix]+chemClass, training=True)\n",
    "\n",
    "            gen_loss = generator_loss(fake_output)\n",
    "            disc_loss = discriminator_loss(real_output, fake_output)\n",
    "\n",
    "            if doD:\n",
    "                # update discriminator\n",
    "                gradients_of_discriminator = disc_tape.gradient(disc_loss, discriminator.trainable_variables)\n",
    "                discriminator_optimizer.apply_gradients(zip(gradients_of_discriminator, discriminator.trainable_variables))\n",
    "\n",
    "                # Additional training\n",
    "                for i in range(2):\n",
    "                    with tf.GradientTape() as gen_tape, tf.GradientTape() as disc_tape:\n",
    "                        generated_matrix, Gpw_features = generator(G_data+chemClass, training=False)\n",
    "                        expanded_Dpw_model = tf.repeat(Gpw_features, repeats=Xfactor, axis=0)\n",
    "\n",
    "                        real_output = discriminator([expanded_Dpw_model]+real_data+toxClass, training=True)\n",
    "                        fake_output = discriminator([Gpw_features]+[generated_matrix]+chemClass, \n",
    "                                                    training=True)\n",
    "\n",
    "\n",
    "                        gen_loss = generator_loss(fake_output)\n",
    "                        disc_loss = discriminator_loss(real_output, fake_output)\n",
    "\n",
    "                    # update discriminator\n",
    "                    gradients_of_discriminator = disc_tape.gradient(disc_loss, discriminator.trainable_variables)\n",
    "                    discriminator_optimizer.apply_gradients(zip(gradients_of_discriminator, discriminator.trainable_variables))\n",
    "\n",
    "            if doG:\n",
    "                # update generator\n",
    "                gradients_of_generator = gen_tape.gradient(gen_loss, generator.trainable_variables)\n",
    "                generator_optimizer.apply_gradients(zip(gradients_of_generator, generator.trainable_variables))\n",
    "        return (gen_loss,disc_loss)\n",
    "    return train_step"
   ]
  },
  {
   "cell_type": "code",
   "execution_count": 9,
   "metadata": {},
   "outputs": [
    {
     "name": "stdout",
     "output_type": "stream",
     "text": [
      "Model: \"generator\"\n",
      "__________________________________________________________________________________________________\n",
      "Layer (type)                    Output Shape         Param #     Connected to                     \n",
      "==================================================================================================\n",
      "gen_class_label (InputLayer)    [(None, 1)]          0                                            \n",
      "__________________________________________________________________________________________________\n",
      "parallelwrapper_input0 (InputLa [(None, 126, 410)]   0                                            \n",
      "__________________________________________________________________________________________________\n",
      "gen_class_embedding (Embedding) (None, 1, 50)        52950       gen_class_label[0][0]            \n",
      "__________________________________________________________________________________________________\n",
      "gen_chem_feature_base (Model)   (None, 126, 279)     1428021     parallelwrapper_input0[0][0]     \n",
      "__________________________________________________________________________________________________\n",
      "parallelScalars (InputLayer)    [(None, 126)]        0                                            \n",
      "__________________________________________________________________________________________________\n",
      "gen_class_dense (Dense)         (None, 1, 279)       14229       gen_class_embedding[0][0]        \n",
      "__________________________________________________________________________________________________\n",
      "weighted_sum_over_views (Dot)   (None, 279)          0           gen_chem_feature_base[1][0]      \n",
      "                                                                 parallelScalars[0][0]            \n",
      "__________________________________________________________________________________________________\n",
      "reshape (Reshape)               (None, 279)          0           gen_class_dense[0][0]            \n",
      "__________________________________________________________________________________________________\n",
      "gen_label_merge (Concatenate)   (None, 558)          0           weighted_sum_over_views[0][0]    \n",
      "                                                                 reshape[0][0]                    \n",
      "__________________________________________________________________________________________________\n",
      "Gft (Model)                     (None, 18)           3681234     gen_label_merge[0][0]            \n",
      "==================================================================================================\n",
      "Total params: 5,176,434\n",
      "Trainable params: 5,163,006\n",
      "Non-trainable params: 13,428\n",
      "__________________________________________________________________________________________________\n",
      "Model: \"discriminator\"\n",
      "__________________________________________________________________________________________________\n",
      "Layer (type)                    Output Shape         Param #     Connected to                     \n",
      "==================================================================================================\n",
      "disc_class_label (InputLayer)   [(None, 1)]          0                                            \n",
      "__________________________________________________________________________________________________\n",
      "disc_class_emmbedding (Embeddin (None, 1, 50)        52950       disc_class_label[0][0]           \n",
      "__________________________________________________________________________________________________\n",
      "disc_class_dense (Dense)        (None, 1, 50)        2550        disc_class_emmbedding[0][0]      \n",
      "__________________________________________________________________________________________________\n",
      "Gpw_features (InputLayer)       [(None, 279)]        0                                            \n",
      "__________________________________________________________________________________________________\n",
      "reshape_1 (Reshape)             (None, 50)           0           disc_class_dense[0][0]           \n",
      "__________________________________________________________________________________________________\n",
      "toxicity_inputs (InputLayer)    [(None, 18)]         0                                            \n",
      "__________________________________________________________________________________________________\n",
      "disc_label-tox_merge (Concatena (None, 347)          0           Gpw_features[0][0]               \n",
      "                                                                 reshape_1[0][0]                  \n",
      "                                                                 toxicity_inputs[0][0]            \n",
      "__________________________________________________________________________________________________\n",
      "Dftj (Model)                    (None, 1)            368533      disc_label-tox_merge[0][0]       \n",
      "==================================================================================================\n",
      "Total params: 424,033\n",
      "Trainable params: 421,945\n",
      "Non-trainable params: 2,088\n",
      "__________________________________________________________________________________________________\n"
     ]
    }
   ],
   "source": [
    "# Initialize the cGAN\n",
    "doG = 1\n",
    "doD = 1\n",
    "\n",
    "# Initialize the G & D netowrks  \n",
    "[generator, discriminator] = init_NN_v2([ws, vs],toxicity,parameters)\n",
    "generator.summary()\n",
    "discriminator.summary()\n",
    "\n",
    "train_step = get_train_function()"
   ]
  },
  {
   "cell_type": "code",
   "execution_count": 10,
   "metadata": {},
   "outputs": [
    {
     "name": "stdout",
     "output_type": "stream",
     "text": [
      "\n",
      "Training Dataset\n",
      "    Kappa:  0.058   AUROC:  0.5626     SE 81.5\n",
      "gen_ability: 0.027105574  disc_ability: 1.2339292\n",
      "Training State: doG = 1 , doD = 0  j =  0 \n",
      "\n",
      "0 \n",
      "Training Dataset\n",
      "    Kappa:  0.086   AUROC:  0.5737     SE 62.4\n",
      "gen_ability: 0.8073348  disc_ability: 0.8413325\n",
      "Training State: doG = 1 , doD = 1  j =  1 \n",
      "\n",
      "\n",
      "Training Dataset\n",
      "    Kappa:  0.088   AUROC:  0.5525     SE 35.4\n",
      "gen_ability: 0.30865723  disc_ability: 0.49060825\n",
      "Training State: doG = 1 , doD = 1  j =  22 \n",
      "\n",
      "50 100 \n",
      "Training Dataset\n",
      "    Kappa:  0.09   AUROC:  0.5434     SE 23.3\n",
      "gen_ability: 0.20457299  disc_ability: 0.40493447\n",
      "Training State: doG = 1 , doD = 1  j =  147 \n",
      "\n",
      "150 200 250 300 350 \n",
      "Training Dataset\n",
      "    Kappa:  0.113   AUROC:  0.5745     SE 44.4\n",
      "gen_ability: 0.102041975  disc_ability: 0.62496877\n",
      "Training State: doG = 1 , doD = 1  j =  356 \n",
      "\n",
      "400 450 500 550 600 650 \n",
      "Training Dataset\n",
      "    Kappa:  0.116   AUROC:  0.6036     SE 70.4\n",
      "gen_ability: 0.03379729  disc_ability: 0.658567\n",
      "Training State: doG = 1 , doD = 1  j =  674 \n",
      "\n",
      "\n",
      "Training Dataset\n",
      "    Kappa:  0.118   AUROC:  0.6044     SE 69.8\n",
      "gen_ability: 0.032986246  disc_ability: 0.657714\n",
      "Training State: doG = 1 , doD = 1  j =  675 \n",
      "\n",
      "\n",
      "Training Dataset\n",
      "    Kappa:  0.124   AUROC:  0.5947     SE 57.7\n",
      "gen_ability: 0.039248057  disc_ability: 0.66596997\n",
      "Training State: doG = 1 , doD = 1  j =  677 \n",
      "\n",
      "\n",
      "Training Dataset\n",
      "    Kappa:  0.125   AUROC:  0.5738     SE 38.1\n",
      "gen_ability: 0.04038745  disc_ability: 0.65167373\n",
      "Training State: doG = 1 , doD = 1  j =  685 \n",
      "\n",
      "\n",
      "Training Dataset\n",
      "    Kappa:  0.133   AUROC:  0.5858     SE 45.0\n",
      "gen_ability: 0.04725976  disc_ability: 0.6284541\n",
      "Training State: doG = 1 , doD = 1  j =  687 \n",
      "\n",
      "\n",
      "Training Dataset\n",
      "    Kappa:  0.138   AUROC:  0.5919     SE 48.1\n",
      "gen_ability: 0.056201816  disc_ability: 0.6096048\n",
      "Training State: doG = 1 , doD = 1  j =  688 \n",
      "\n",
      "\n",
      "Training Dataset\n",
      "    Kappa:  0.143   AUROC:  0.608     SE 58.7\n",
      "gen_ability: 0.05694846  disc_ability: 0.60208815\n",
      "Training State: doG = 1 , doD = 1  j =  690 \n",
      "\n",
      "700 750 800 850 900 950 1000 1050 1100 1150 1200 1250 1300 1350 1400 1450 1500 1550 1600 1650 1700 1750 1800 1850 1900 1950 CPU times: user 1h 58min 10s, sys: 17min 45s, total: 2h 15min 55s\n",
      "Wall time: 1h 56min 3s\n"
     ]
    }
   ],
   "source": [
    "%%time\n",
    "# cGAN training loop\n",
    "epochs = 2000\n",
    "best_kappa = 0\n",
    "training_loss = np.zeros((epochs,2))\n",
    "# Find Sweet spot\n",
    "j = 0\n",
    "while j < epochs:\n",
    "    info = train_step([ws, vs],[toxicity],[chem_labels],[fish],doG,doD)\n",
    "\n",
    "    # find out how well the two NNs are doing\n",
    "    gen_lab, Gchem_features = generator.predict([ws,vs,chem_labels])\n",
    "    expanded_Dpw_model = tf.repeat(Gchem_features, repeats=Xfactor, axis=0)\n",
    "\n",
    "    fake_output = discriminator.predict([Gchem_features,gen_lab,chem_labels])\n",
    "    gen_ability_T = Dloss_function(tf.zeros_like(fake_output), fake_output).numpy()\n",
    "\n",
    "    real_output = discriminator.predict([expanded_Dpw_model,toxicity,fish])\n",
    "    disc_ability_T = Dloss_function(tf.ones_like(real_output), real_output).numpy()\n",
    "\n",
    "    doG = 1\n",
    "    doD = 1\n",
    "\n",
    "    # if G is winning stop training G\n",
    "    if (disc_ability_T-gen_ability_T) < 0 or gen_ability_T > 0.95:\n",
    "        doG = 0\n",
    "    # if D is winning stop training D\n",
    "    if disc_ability_T > 0.95:\n",
    "        doD = 0\n",
    "    if gen_ability_T > 0.90 and disc_ability_T > 0.90:\n",
    "        doG = 1\n",
    "        doD = 1          \n",
    "\n",
    "    # Calculate chemical activity - ignoring warning due to potential division by zero\n",
    "    with warnings.catch_warnings():\n",
    "        warnings.simplefilter(action='ignore', category=Warning)\n",
    "        [gen_activity_table, tox_activity_table, gen_AggE, tox_AggE] = calc_AggE_indv(toxicity, chem_labels, \n",
    "                                                                                      chemnames, gen_lab, \n",
    "                                                                                      fish, endpoints, Xfactor)\n",
    "\n",
    "        metrics = display_conf_matrix(gen_activity_table, tox_activity_table, Display=0)\n",
    "    model_kappa = metrics[0]\n",
    "\n",
    "    if model_kappa > best_kappa:\n",
    "        best_kappa = model_kappa\n",
    "        best_metrics = metrics\n",
    "\n",
    "        # find out how well the two NNs are doing\n",
    "        print(\"\\nTraining Dataset\")\n",
    "        print('    Kappa: ', metrics[0], '  AUROC: ', metrics[1], '    SE', metrics[2])\n",
    "        print(\"gen_ability:\", gen_ability_T, \" disc_ability:\", disc_ability_T)\n",
    "        print(\"Training State: doG =\", doG, \", doD =\", doD, \" j = \", j, \"\\n\")\n",
    "\n",
    "        # Save the model\n",
    "        generator.save(modelpath+genpath)\n",
    "        discriminator.save(modelpath+discpath)\n",
    "\n",
    "    if j % 50 == 0:\n",
    "        print(j, end=\" \")\n",
    "\n",
    "    training_loss[j] = [gen_ability_T, disc_ability_T]\n",
    "    j += 1\n",
    "\n",
    "# Load the best model\n",
    "generator = tf.keras.models.load_model(modelpath+genpath)\n",
    "discriminator = tf.keras.models.load_model(modelpath+discpath)"
   ]
  },
  {
   "cell_type": "code",
   "execution_count": 31,
   "metadata": {},
   "outputs": [
    {
     "name": "stdout",
     "output_type": "stream",
     "text": [
      "AG-model-GT-(0,1)_18x1-Kappa-0.144.h5\n",
      "AG-model-DT-(0,1)_18x1-Kappa-0.144.h5\n"
     ]
    }
   ],
   "source": [
    "# Save the model\n",
    "best_kappa_f = str(round(best_kappa,5))\n",
    "\n",
    "print(\"AG-model-GT-\"+dataType+\"-Kappa-\"+best_kappa_f+\".h5\")\n",
    "generator.save(modelpath+\"AG-model-GT-\"+dataType+\"-Kappa-\"+best_kappa_f+\".h5\")\n",
    "print(\"AG-model-DT-\"+dataType+\"-Kappa-\"+best_kappa_f+\".h5\")\n",
    "discriminator.save(modelpath+\"AG-model-DT-\"+dataType+\"-Kappa-\"+best_kappa_f+\".h5\")\n",
    "\n",
    "model_ID = \"AG-model-GT-\"+dataType+\"-Kappa-\"+best_kappa_f+\".h5\""
   ]
  },
  {
   "cell_type": "markdown",
   "metadata": {},
   "source": [
    "#### Display run summary information"
   ]
  },
  {
   "cell_type": "code",
   "execution_count": 32,
   "metadata": {},
   "outputs": [
    {
     "name": "stdout",
     "output_type": "stream",
     "text": [
      "Chemical Information:\n",
      "Data tensor (w,v) shapes = (1003, 126) (1003, 126, 410)\n",
      "Only use Carbon atoms: False\n",
      "Number of atoms per view: 82\n",
      "Views per chemical: 126\n",
      "\n",
      "Network Information:\n",
      "Gfeatures = 279\n",
      "Gbaselayers = 3\n",
      "Glayers = 11\n",
      "Dfeatures = 50\n",
      "Dbaselayers = 0\n",
      "Dlayers = 3\n",
      "\n",
      "(0,1)_18x1 Dataset\n",
      "\n"
     ]
    },
    {
     "data": {
      "image/png": "[encoded data removed]",
      "text/plain": [
       "<Figure size 576x396 with 1 Axes>"
      ]
     },
     "metadata": {},
     "output_type": "display_data"
    },
    {
     "name": "stdout",
     "output_type": "stream",
     "text": [
      "\n",
      "\n",
      "Kappa:  0.144\n",
      "Auroc:  0.6067\n"
     ]
    },
    {
     "data": {
      "image/png": "[encoded data removed]",
      "text/plain": [
       "<Figure size 576x396 with 2 Axes>"
      ]
     },
     "metadata": {},
     "output_type": "display_data"
    }
   ],
   "source": [
    "print(\"Chemical Information:\\n\"+\n",
    "             \"Data tensor (w,v) shapes = \"+str(ws.shape)+\" \"+str(vs.shape)+\n",
    "             \"\\nOnly use Carbon atoms: \"+str(parameters[6])+\n",
    "             \"\\nNumber of atoms per view: \"+str(parameters[7])+\n",
    "             \"\\nViews per chemical: \"+str(parameters[8])+\n",
    "             \"\\n\\nNetwork Information:\"+\n",
    "             \"\\nGfeatures = \"+str(parameters[0])+\"\\nGbaselayers = \"+str(parameters[1])+\n",
    "             \"\\nGlayers = \"+str(parameters[2])+\"\\nDfeatures = \"+str(parameters[3])+\n",
    "             \"\\nDbaselayers = \"+str(parameters[4])+\"\\nDlayers = \"+str(parameters[5])+\n",
    "             \"\\n\\n\"+dataType+\" Dataset\\n\")\n",
    "\n",
    "\n",
    "gen_lab, Gchem_features = generator.predict([ws,vs,chem_labels])\n",
    "expanded_Dpw_model = tf.repeat(Gchem_features, repeats=Xfactor, axis=0)\n",
    "\n",
    "fake_output = discriminator.predict([Gchem_features,gen_lab,chem_labels])\n",
    "gen_ability = Dloss_function(tf.zeros_like(fake_output), fake_output).numpy()\n",
    "\n",
    "real_output = discriminator.predict([expanded_Dpw_model,toxicity,fish])\n",
    "disc_ability = Dloss_function(tf.ones_like(real_output), real_output).numpy()\n",
    "\n",
    "if 1:    \n",
    "    # plot loss during training\n",
    "    plt.figure()\n",
    "    plt.title('Training Loss')\n",
    "    plt.plot(training_loss[:,0], label='Generator Loss')\n",
    "    plt.plot(training_loss[:,1], label='Discriminator Loss')\n",
    "    plt.legend()\n",
    "    plt.savefig(modelpath+'GAN-ZT_final_model_loss_plot-'+best_kappa_f+'.png', dpi=600, bbox_inches='tight')\n",
    "    plt.pause(0.5)\n",
    "    \n",
    "# Calculate chemical activity - ignoring warning due to potential division by zero\n",
    "with warnings.catch_warnings():\n",
    "    warnings.simplefilter(action='ignore', category=Warning)\n",
    "    [gen_activity_table, tox_activity_table, gen_AggE, tox_AggE] = calc_AggE_indv(toxicity, chem_labels, chemnames, \n",
    "                                                              gen_lab, fish, endpoints, Xfactor, verbose=0)\n",
    "    \n",
    "metrics = display_conf_matrix(gen_activity_table, tox_activity_table, Gmodelname='GAN-ZT Training', Display=True, \n",
    "                              Save_path=modelpath)       \n",
    "# metrics = display_conf_matrix(gen_activity_table, tox_activity_table, Gmodelname='GAN-ZT Training', Display=True)      "
   ]
  },
  {
   "cell_type": "markdown",
   "metadata": {},
   "source": [
    "#### Write run summary to file"
   ]
  },
  {
   "cell_type": "code",
   "execution_count": 34,
   "metadata": {},
   "outputs": [],
   "source": [
    "model_ID = \"AG-model-GT-\"+dataType+\"-Kappa-\"+best_kappa_f+\"-GAN-ZT-final\"\n",
    "\n",
    "summary_file_df = write_training_file(parameters,[model_ID, concentrations, ws.shape[1], gen_ability, disc_ability],\n",
    "                              best_metrics, modelpath+'GAN-ZT-Final-model-parameters-'+best_kappa_f+'.xlsx')"
   ]
  },
  {
   "cell_type": "code",
   "execution_count": 35,
   "metadata": {},
   "outputs": [
    {
     "data": {
      "text/html": [
       "<div>\n",
       "<style scoped>\n",
       "    .dataframe tbody tr th:only-of-type {\n",
       "        vertical-align: middle;\n",
       "    }\n",
       "\n",
       "    .dataframe tbody tr th {\n",
       "        vertical-align: top;\n",
       "    }\n",
       "\n",
       "    .dataframe thead th {\n",
       "        text-align: right;\n",
       "    }\n",
       "</style>\n",
       "<table border=\"1\" class=\"dataframe\">\n",
       "  <thead>\n",
       "    <tr style=\"text-align: right;\">\n",
       "      <th></th>\n",
       "      <th>ID</th>\n",
       "      <th>Number of Conc.</th>\n",
       "      <th>Views</th>\n",
       "      <th>Atoms per View</th>\n",
       "      <th>Gen Parameters</th>\n",
       "      <th>Disc Parameters</th>\n",
       "      <th>Gen Ability - Val</th>\n",
       "      <th>Disc Ability - Val</th>\n",
       "      <th>SE</th>\n",
       "      <th>SP</th>\n",
       "      <th>PPV</th>\n",
       "      <th>Kappa</th>\n",
       "      <th>AUROC</th>\n",
       "    </tr>\n",
       "  </thead>\n",
       "  <tbody>\n",
       "    <tr>\n",
       "      <th>0</th>\n",
       "      <td>AG-model-GT-(0,1)_18x1-Kappa-0.144-GAN-ZT-final</td>\n",
       "      <td>1</td>\n",
       "      <td>126</td>\n",
       "      <td>82</td>\n",
       "      <td>279 3 11</td>\n",
       "      <td>50 0 3</td>\n",
       "      <td>0.044421</td>\n",
       "      <td>0.761525</td>\n",
       "      <td>58.2</td>\n",
       "      <td>63.1</td>\n",
       "      <td>25.9</td>\n",
       "      <td>0.144</td>\n",
       "      <td>0.6067</td>\n",
       "    </tr>\n",
       "  </tbody>\n",
       "</table>\n",
       "</div>"
      ],
      "text/plain": [
       "                                                ID Number of Conc. Views  \\\n",
       "0  AG-model-GT-(0,1)_18x1-Kappa-0.144-GAN-ZT-final               1   126   \n",
       "\n",
       "  Atoms per View Gen Parameters Disc Parameters  Gen Ability - Val  \\\n",
       "0             82       279 3 11          50 0 3           0.044421   \n",
       "\n",
       "   Disc Ability - Val    SE    SP   PPV  Kappa   AUROC  \n",
       "0            0.761525  58.2  63.1  25.9  0.144  0.6067  "
      ]
     },
     "execution_count": 35,
     "metadata": {},
     "output_type": "execute_result"
    }
   ],
   "source": [
    "summary_file_df.head(40)"
   ]
  },
  {
   "cell_type": "raw",
   "metadata": {},
   "source": [
    "os._exit(00)"
   ]
  },
  {
   "cell_type": "markdown",
   "metadata": {},
   "source": [
    "# "
   ]
  }
 ],
 "metadata": {
  "kernelspec": {
   "display_name": "Python 3",
   "language": "python",
   "name": "python3"
  },
  "language_info": {
   "codemirror_mode": {
    "name": "ipython",
    "version": 3
   },
   "file_extension": ".py",
   "mimetype": "text/x-python",
   "name": "python",
   "nbconvert_exporter": "python",
   "pygments_lexer": "ipython3",
   "version": "3.6.9"
  }
 },
 "nbformat": 4,
 "nbformat_minor": 4
}
